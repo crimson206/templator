{
 "cells": [
  {
   "cell_type": "markdown",
   "metadata": {},
   "source": [
    "## Allowed Additional Line After Indent Pattern\n",
    "\n",
    "Previously, any additional text was not allowed in lines with `indent pattern`.\n",
    "\n",
    "The template below caused an error.\n"
   ]
  },
  {
   "cell_type": "code",
   "execution_count": 1,
   "metadata": {},
   "outputs": [],
   "source": [
    "from crimson.templator import format_indent\n",
    "\n",
    "template = r\"\"\"\n",
    "    \\{lines1\\} some more text\n",
    "        \\{lines2\\}\n",
    "\"\"\"\n",
    "\n",
    "lines1 = \"\"\"\\\n",
    "1\n",
    "2\n",
    "3\\\n",
    "\"\"\"\n",
    "\n",
    "lines2 = \"\"\"\\\n",
    "a\n",
    "b\n",
    "c\\\n",
    "\"\"\"\n",
    "\n",
    "# print(format_indent(template=template, lines1=lines1, lines2=lines2))"
   ]
  },
  {
   "cell_type": "markdown",
   "metadata": {},
   "source": [
    "After version 0.2.2, the syntax is allowed.\n",
    "\n",
    "The result will be\n",
    "\n",
    "```\n",
    "    1\n",
    "    2\n",
    "    3 some more text\n",
    "        a\n",
    "        b\n",
    "        c\n",
    "```"
   ]
  },
  {
   "cell_type": "code",
   "execution_count": 2,
   "metadata": {},
   "outputs": [],
   "source": [
    "import inspect\n",
    "\n",
    "test_script_path = './script.py'"
   ]
  },
  {
   "cell_type": "code",
   "execution_count": 3,
   "metadata": {},
   "outputs": [
    {
     "name": "stdout",
     "output_type": "stream",
     "text": [
      "from crimson.templator import format_indent\n",
      "\n",
      "template = r\"\"\"\n",
      "    \\{lines1\\} some more text\n",
      "        \\{lines2\\}\n",
      "\"\"\"\n",
      "\n",
      "lines1 = \"\"\"\\\n",
      "1\n",
      "2\n",
      "3\\\n",
      "\"\"\"\n",
      "\n",
      "lines2 = \"\"\"\\\n",
      "a\n",
      "b\n",
      "c\\\n",
      "\"\"\"\n",
      "\n",
      "print(format_indent(template=template, lines1=lines1, lines2=lines2))\n",
      "\n"
     ]
    }
   ],
   "source": [
    "print(open(test_script_path).read())"
   ]
  },
  {
   "cell_type": "code",
   "execution_count": 4,
   "metadata": {},
   "outputs": [
    {
     "name": "stdout",
     "output_type": "stream",
     "text": [
      "Collecting crimson-templator==0.2.1\n",
      "  Using cached crimson_templator-0.2.1-py3-none-any.whl.metadata (930 bytes)\n",
      "Requirement already satisfied: pydantic in /home/crimson/miniconda3/envs/templator/lib/python3.11/site-packages (from crimson-templator==0.2.1) (2.8.2)\n",
      "Requirement already satisfied: crimson-intelli-type==0.4.0 in /home/crimson/miniconda3/envs/templator/lib/python3.11/site-packages (from crimson-templator==0.2.1) (0.4.0)\n",
      "Requirement already satisfied: annotated-types>=0.4.0 in /home/crimson/miniconda3/envs/templator/lib/python3.11/site-packages (from pydantic->crimson-templator==0.2.1) (0.7.0)\n",
      "Requirement already satisfied: pydantic-core==2.20.1 in /home/crimson/miniconda3/envs/templator/lib/python3.11/site-packages (from pydantic->crimson-templator==0.2.1) (2.20.1)\n",
      "Requirement already satisfied: typing-extensions>=4.6.1 in /home/crimson/miniconda3/envs/templator/lib/python3.11/site-packages (from pydantic->crimson-templator==0.2.1) (4.12.2)\n",
      "Using cached crimson_templator-0.2.1-py3-none-any.whl (6.6 kB)\n",
      "Installing collected packages: crimson-templator\n",
      "  Attempting uninstall: crimson-templator\n",
      "    Found existing installation: crimson-templator 0.2.2\n",
      "    Uninstalling crimson-templator-0.2.2:\n",
      "      Successfully uninstalled crimson-templator-0.2.2\n",
      "Successfully installed crimson-templator-0.2.1\n"
     ]
    },
    {
     "name": "stderr",
     "output_type": "stream",
     "text": [
      "Traceback (most recent call last):\n",
      "  File \"/home/crimson/Projects/manager/crimson/templator/release_notebooks/0/2/2/./script.py\", line 20, in <module>\n",
      "    print(format_indent(template=template, lines1=lines1, lines2=lines2))\n",
      "          ^^^^^^^^^^^^^^^^^^^^^^^^^^^^^^^^^^^^^^^^^^^^^^^^^^^^^^^^^^^^^^\n",
      "  File \"/home/crimson/miniconda3/envs/templator/lib/python3.11/site-packages/crimson/templator/__init__.py\", line 196, in format_indent\n",
      "    template = _format_indent_single(template, key, value, open, close)\n",
      "               ^^^^^^^^^^^^^^^^^^^^^^^^^^^^^^^^^^^^^^^^^^^^^^^^^^^^^^^^\n",
      "  File \"/home/crimson/miniconda3/envs/templator/lib/python3.11/site-packages/crimson/templator/__init__.py\", line 308, in _format_indent_single\n",
      "    _check_indent_line(line, pattern)\n",
      "  File \"/home/crimson/miniconda3/envs/templator/lib/python3.11/site-packages/crimson/templator/__init__.py\", line 321, in _check_indent_line\n",
      "    raise ValueError(f\"The line contains characters other than '{pattern}'\")\n",
      "ValueError: The line contains characters other than '\\{lines1\\}'\n"
     ]
    },
    {
     "data": {
      "text/plain": [
       "CompletedProcess(args=['python', './script.py'], returncode=1)"
      ]
     },
     "execution_count": 4,
     "metadata": {},
     "output_type": "execute_result"
    }
   ],
   "source": [
    "import subprocess\n",
    "\n",
    "subprocess.run([\"pip\", \"install\", \"--upgrade\", \"crimson-templator==0.2.1\"], capture_output=False)\n",
    "subprocess.run([\"python\", test_script_path], capture_output=False)\n"
   ]
  },
  {
   "cell_type": "code",
   "execution_count": 5,
   "metadata": {},
   "outputs": [
    {
     "name": "stdout",
     "output_type": "stream",
     "text": [
      "Collecting crimson-templator==0.2.2\n",
      "  Using cached crimson_templator-0.2.2-py3-none-any.whl.metadata (930 bytes)\n",
      "Requirement already satisfied: pydantic in /home/crimson/miniconda3/envs/templator/lib/python3.11/site-packages (from crimson-templator==0.2.2) (2.8.2)\n",
      "Requirement already satisfied: crimson-intelli-type==0.4.0 in /home/crimson/miniconda3/envs/templator/lib/python3.11/site-packages (from crimson-templator==0.2.2) (0.4.0)\n",
      "Requirement already satisfied: annotated-types>=0.4.0 in /home/crimson/miniconda3/envs/templator/lib/python3.11/site-packages (from pydantic->crimson-templator==0.2.2) (0.7.0)\n",
      "Requirement already satisfied: pydantic-core==2.20.1 in /home/crimson/miniconda3/envs/templator/lib/python3.11/site-packages (from pydantic->crimson-templator==0.2.2) (2.20.1)\n",
      "Requirement already satisfied: typing-extensions>=4.6.1 in /home/crimson/miniconda3/envs/templator/lib/python3.11/site-packages (from pydantic->crimson-templator==0.2.2) (4.12.2)\n",
      "Using cached crimson_templator-0.2.2-py3-none-any.whl (6.6 kB)\n",
      "Installing collected packages: crimson-templator\n",
      "  Attempting uninstall: crimson-templator\n",
      "    Found existing installation: crimson-templator 0.2.1\n",
      "    Uninstalling crimson-templator-0.2.1:\n",
      "      Successfully uninstalled crimson-templator-0.2.1\n",
      "Successfully installed crimson-templator-0.2.2\n",
      "\n",
      "    1\n",
      "    2\n",
      "    3 some more text\n",
      "        a\n",
      "        b\n",
      "        c\n",
      "\n"
     ]
    },
    {
     "data": {
      "text/plain": [
       "CompletedProcess(args=['python', './script.py'], returncode=0)"
      ]
     },
     "execution_count": 5,
     "metadata": {},
     "output_type": "execute_result"
    }
   ],
   "source": [
    "subprocess.run([\"pip\", \"install\", \"--upgrade\", \"crimson-templator==0.2.2\"], capture_output=False)\n",
    "subprocess.run([\"python\", test_script_path], capture_output=False)"
   ]
  }
 ],
 "metadata": {
  "kernelspec": {
   "display_name": "templator",
   "language": "python",
   "name": "python3"
  },
  "language_info": {
   "codemirror_mode": {
    "name": "ipython",
    "version": 3
   },
   "file_extension": ".py",
   "mimetype": "text/x-python",
   "name": "python",
   "nbconvert_exporter": "python",
   "pygments_lexer": "ipython3",
   "version": "3.11.9"
  }
 },
 "nbformat": 4,
 "nbformat_minor": 2
}
