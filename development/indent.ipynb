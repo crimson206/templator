{
 "cells": [
  {
   "cell_type": "code",
   "execution_count": 82,
   "metadata": {},
   "outputs": [],
   "source": [
    "text = r'''\\\n",
    "import React from 'react';\n",
    "import hljs from 'highlight.js';\n",
    "import 'highlight.js/styles/default.css'; // 기본 하이라이트 스타일\n",
    "\n",
    "// 사용 예:\n",
    "// <\\[component_name\\] code={`def hello_world():\n",
    "//     print(\"Hello, world!\")`} language=\"python\" />\n",
    "\n",
    "// Python 코드 예시\n",
    "const pythonCode = `def hello_world():\n",
    "    print(\"Hello, world!\")`;\n",
    "\n",
    "// 코드 하이라이트 처리\n",
    "const highlightedCode = hljs.highlight(pythonCode, { language: 'python' }).value;\n",
    "\n",
    "// 이제 highlightedCode를 웹 컴포넌트로 전달하여 렌더링 할 수 있습니다.\n",
    "console.log(highlightedCode);\n",
    "\n",
    "\n",
    "interface \\[component_name\\]Props {\n",
    "    \\{insert2\\}\n",
    "}\n",
    "\n",
    "const \\[component_name\\] = ({ children=\"def function():\\n\\n\", language='python' }) => {\n",
    "    const highlightedCode = hljs.highlight(children, { language }).value;\n",
    "        \\{insert\\}   \n",
    "};\n",
    "\n",
    "export default \\[component_name\\];\n",
    "'''"
   ]
  },
  {
   "cell_type": "code",
   "execution_count": 71,
   "metadata": {},
   "outputs": [],
   "source": [
    "insert = '''\\\n",
    "return <div>\n",
    "            <button/>\n",
    "        </div>\n",
    "'''\n",
    "\n",
    "insert2 = '''\\\n",
    "children: string;\n",
    "language: string;\n",
    "'''"
   ]
  },
  {
   "cell_type": "code",
   "execution_count": 46,
   "metadata": {},
   "outputs": [
    {
     "name": "stdout",
     "output_type": "stream",
     "text": [
      "\\\n",
      "import React from 'react';\n",
      "import hljs from 'highlight.js';\n",
      "import 'highlight.js/styles/default.css'; // 기본 하이라이트 스타일\n",
      "\n",
      "// 사용 예:\n",
      "// <CodeBlock code={`def hello_world():\n",
      "//     print(\"Hello, world!\")`} language=\"python\" />\n",
      "\n",
      "// Python 코드 예시\n",
      "const pythonCode = `def hello_world():\n",
      "    print(\"Hello, world!\")`;\n",
      "\n",
      "// 코드 하이라이트 처리\n",
      "const highlightedCode = hljs.highlight(pythonCode, { language: 'python' }).value;\n",
      "\n",
      "// 이제 highlightedCode를 웹 컴포넌트로 전달하여 렌더링 할 수 있습니다.\n",
      "console.log(highlightedCode);\n",
      "\n",
      "\n",
      "interface CodeBlockProps {\n",
      "    children: string;\n",
      "    language: string;\n",
      "}\n",
      "\n",
      "const CodeBlock = ({ children=\"def function():\\n\\n\", language='python' }) => {\n",
      "    const highlightedCode = hljs.highlight(children, { language }).value;\n",
      "        \\{insert\\}\n",
      "};\n",
      "\n",
      "export default CodeBlock;\n",
      "\n"
     ]
    }
   ],
   "source": [
    "print(text.replace(r'\\[component_name\\]', 'CodeBlock'))"
   ]
  },
  {
   "cell_type": "code",
   "execution_count": 47,
   "metadata": {},
   "outputs": [],
   "source": []
  },
  {
   "cell_type": "code",
   "execution_count": 48,
   "metadata": {},
   "outputs": [],
   "source": [
    "def add_prefix(text, prefix= \" \"*4):\n",
    "    split = text.split('\\n')\n",
    "    text = prefix + f'\\n{prefix}'.join(split)\n",
    "    return text"
   ]
  },
  {
   "cell_type": "code",
   "execution_count": 49,
   "metadata": {},
   "outputs": [
    {
     "name": "stdout",
     "output_type": "stream",
     "text": [
      "    return <div>\n",
      "                <button/>\n",
      "            </div>\n",
      "    \n"
     ]
    }
   ],
   "source": [
    "print(add_prefix(insert))"
   ]
  },
  {
   "cell_type": "code",
   "execution_count": 75,
   "metadata": {},
   "outputs": [],
   "source": [
    "def check_indent_line(text: str, pattern:str):\n",
    "    remaining_text = text.replace(pattern, '').strip()\n",
    "\n",
    "    if remaining_text:\n",
    "        raise ValueError(f\"The line contains characters other than '{pattern}'\")\n",
    "\n",
    "    return True"
   ]
  },
  {
   "cell_type": "code",
   "execution_count": 76,
   "metadata": {},
   "outputs": [],
   "source": [
    "def _format_indent_single(\n",
    "    text: str,\n",
    "    key:str,\n",
    "    value:str,\n",
    "    open: str = r\"\\{\",\n",
    "    close: str = r\"\\}\",\n",
    "):\n",
    "    pattern = open + key + close\n",
    "    new_lines = []\n",
    "    for line in text.split('\\n'):\n",
    "        if line.find(pattern) != -1:\n",
    "            check_indent_line(line, pattern)\n",
    "            indent = line[:line.find(pattern)]\n",
    "            new_lines.append(add_prefix(value, indent))\n",
    "        else:\n",
    "            new_lines.append(line)\n",
    "            \n",
    "    return '\\n'.join(new_lines)"
   ]
  },
  {
   "cell_type": "code",
   "execution_count": 88,
   "metadata": {},
   "outputs": [],
   "source": [
    "def format_insert(\n",
    "    text: str,\n",
    "    open: str = r\"\\[\",\n",
    "    close: str = r\"\\]\",\n",
    "    **kwargs\n",
    "):\n",
    "    for key, value in kwargs.items():\n",
    "        pattern = open + key + close\n",
    "        text = text.replace(pattern, value)\n",
    "\n",
    "    return text"
   ]
  },
  {
   "cell_type": "code",
   "execution_count": 77,
   "metadata": {},
   "outputs": [],
   "source": [
    "def format_indent(\n",
    "    text: str,\n",
    "    open: str = r\"\\{\",\n",
    "    close: str = r\"\\}\",\n",
    "    **kwargs\n",
    "):\n",
    "    for key, value in kwargs.items():\n",
    "        text = _format_indent_single(text, key, value, open, close)\n",
    "\n",
    "    return text"
   ]
  },
  {
   "cell_type": "code",
   "execution_count": 90,
   "metadata": {},
   "outputs": [],
   "source": [
    "indent_formated = format_indent(text, insert=insert, insert2=insert2)"
   ]
  },
  {
   "cell_type": "code",
   "execution_count": 91,
   "metadata": {},
   "outputs": [
    {
     "name": "stdout",
     "output_type": "stream",
     "text": [
      "\\\n",
      "import React from 'react';\n",
      "import hljs from 'highlight.js';\n",
      "import 'highlight.js/styles/default.css'; // 기본 하이라이트 스타일\n",
      "\n",
      "// 사용 예:\n",
      "// <CodeBlock code={`def hello_world():\n",
      "//     print(\"Hello, world!\")`} language=\"python\" />\n",
      "\n",
      "// Python 코드 예시\n",
      "const pythonCode = `def hello_world():\n",
      "    print(\"Hello, world!\")`;\n",
      "\n",
      "// 코드 하이라이트 처리\n",
      "const highlightedCode = hljs.highlight(pythonCode, { language: 'python' }).value;\n",
      "\n",
      "// 이제 highlightedCode를 웹 컴포넌트로 전달하여 렌더링 할 수 있습니다.\n",
      "console.log(highlightedCode);\n",
      "\n",
      "\n",
      "interface CodeBlockProps {\n",
      "    children: string;\n",
      "    language: string;\n",
      "    \n",
      "}\n",
      "\n",
      "const CodeBlock = ({ children=\"def function():\\n\\n\", language='python' }) => {\n",
      "    const highlightedCode = hljs.highlight(children, { language }).value;\n",
      "        return <div>\n",
      "                    <button/>\n",
      "                </div>\n",
      "        \n",
      "};\n",
      "\n",
      "export default CodeBlock;\n",
      "\n"
     ]
    }
   ],
   "source": [
    "formatted = format_insert(indent_formated, component_name='CodeBlock')\n",
    "print(formatted)"
   ]
  }
 ],
 "metadata": {
  "kernelspec": {
   "display_name": "core",
   "language": "python",
   "name": "python3"
  },
  "language_info": {
   "codemirror_mode": {
    "name": "ipython",
    "version": 3
   },
   "file_extension": ".py",
   "mimetype": "text/x-python",
   "name": "python",
   "nbconvert_exporter": "python",
   "pygments_lexer": "ipython3",
   "version": "3.11.9"
  }
 },
 "nbformat": 4,
 "nbformat_minor": 2
}
