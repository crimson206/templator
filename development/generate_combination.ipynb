{
 "cells": [
  {
   "cell_type": "code",
   "execution_count": 7,
   "metadata": {},
   "outputs": [],
   "source": [
    "from typing import Dict\n",
    "from typing import List, Tuple\n",
    "\n",
    "class _GenerateCombinations:\n",
    "\n",
    "    @classmethod\n",
    "    def _generate_combinations(cls, data, current_combination=[], all_combinations=[]) -> List[List[Tuple[str, str]]]:\n",
    "        if not data:  # 모든 라이브러리에 대한 조합을 생성한 경우\n",
    "            all_combinations.append(current_combination)\n",
    "            return\n",
    "\n",
    "        library_name, versions = data.popitem()  # 현재 라이브러리 정보 가져오기\n",
    "        for version in versions:\n",
    "            cls._generate_combinations(\n",
    "                data=data.copy(),  # data 복사본 전달 (원본 유지)\n",
    "                current_combination=current_combination + [(library_name, version)],  # 현재 조합에 추가\n",
    "                all_combinations=all_combinations,\n",
    "            )\n",
    "\n",
    "    @classmethod\n",
    "    def generate_combinations_tuple(cls, data:Dict[str, List[str]]) -> List[List[Tuple[str, str]]]:\n",
    "        all_combinations = []\n",
    "        cls._generate_combinations(data=data.copy(), all_combinations=all_combinations)\n",
    "\n",
    "        return all_combinations\n",
    "\n",
    "    @classmethod\n",
    "    def generate_combinations_dict(cls, data:Dict[str, List[str]], key_name:str, value_name:str) -> List[Dict[str, List[str]]]:\n",
    "        _all_combinations = cls.generate_combinations_tuple(data)\n",
    "        \n",
    "        all_combinations = []\n",
    "        for one_case in _all_combinations:\n",
    "            one_cace = cls._convert_list_tuple_to_list_dict(one_case, key_name, value_name)\n",
    "            all_combinations.append(one_cace)\n",
    "        return all_combinations\n",
    "\n",
    "\n",
    "    @classmethod\n",
    "    def _convert_list_tuple_to_list_dict(cls, data: List[Tuple[str, str]], key_name:str, value_name:str) -> Dict[str, List[str]]:\n",
    "        _data = {\n",
    "            key_name:[],\n",
    "            value_name:[],\n",
    "        }\n",
    "        for (module_name, version) in data:\n",
    "            _data[key_name].append(module_name)\n",
    "            _data[value_name].append(version)\n",
    "        return _data\n",
    "\n",
    "\n",
    "data = {\n",
    "    \"crimson-data-class\": [\"0.1.3\", \"0.1.0\"],\n",
    "    \"crimson-templator\": [\"0.1.4\", \"0.1.1\"],\n",
    "}\n"
   ]
  },
  {
   "cell_type": "code",
   "execution_count": 8,
   "metadata": {},
   "outputs": [
    {
     "data": {
      "text/plain": [
       "[{'module_name': ['crimson-templator', 'crimson-data-class'],\n",
       "  'version': ['0.1.4', '0.1.3']},\n",
       " {'module_name': ['crimson-templator', 'crimson-data-class'],\n",
       "  'version': ['0.1.4', '0.1.0']},\n",
       " {'module_name': ['crimson-templator', 'crimson-data-class'],\n",
       "  'version': ['0.1.1', '0.1.3']},\n",
       " {'module_name': ['crimson-templator', 'crimson-data-class'],\n",
       "  'version': ['0.1.1', '0.1.0']}]"
      ]
     },
     "execution_count": 8,
     "metadata": {},
     "output_type": "execute_result"
    }
   ],
   "source": [
    "all= _GenerateCombinations.generate_combinations_dict(data, \"module_name\", \"version\")\n",
    "all"
   ]
  },
  {
   "cell_type": "code",
   "execution_count": 9,
   "metadata": {},
   "outputs": [
    {
     "data": {
      "text/plain": [
       "[[('crimson-templator', '0.1.4'), ('crimson-data-class', '0.1.3')],\n",
       " [('crimson-templator', '0.1.4'), ('crimson-data-class', '0.1.0')],\n",
       " [('crimson-templator', '0.1.1'), ('crimson-data-class', '0.1.3')],\n",
       " [('crimson-templator', '0.1.1'), ('crimson-data-class', '0.1.0')]]"
      ]
     },
     "execution_count": 9,
     "metadata": {},
     "output_type": "execute_result"
    }
   ],
   "source": [
    "all= _GenerateCombinations.generate_combinations_tuple(data)\n",
    "all"
   ]
  }
 ],
 "metadata": {
  "kernelspec": {
   "display_name": "templator",
   "language": "python",
   "name": "python3"
  },
  "language_info": {
   "codemirror_mode": {
    "name": "ipython",
    "version": 3
   },
   "file_extension": ".py",
   "mimetype": "text/x-python",
   "name": "python",
   "nbconvert_exporter": "python",
   "pygments_lexer": "ipython3",
   "version": "3.10.14"
  }
 },
 "nbformat": 4,
 "nbformat_minor": 2
}
