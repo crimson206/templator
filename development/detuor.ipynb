{
 "cells": [
  {
   "cell_type": "markdown",
   "metadata": {},
   "source": [
    "- description : implement the core features\n",
    "- date : 11/6/2024"
   ]
  },
  {
   "cell_type": "code",
   "execution_count": 2,
   "metadata": {},
   "outputs": [],
   "source": [
    "text = r'''\\\n",
    "import React from 'react';\n",
    "import hljs from 'highlight.js';\n",
    "import 'highlight.js/styles/default.css'; // 기본 하이라이트 스타일\n",
    "\n",
    "// 사용 예:\n",
    "// <\\[component_name\\] code={`def hello_world():\n",
    "//     print(\"Hello, world!\")`} language=\"python\" />\n",
    "\n",
    "// Python 코드 예시\n",
    "const pythonCode = `def hello_world():\n",
    "    print(\"Hello, world!\")`;\n",
    "\n",
    "// 코드 하이라이트 처리\n",
    "const highlightedCode = hljs.highlight(pythonCode, { language: 'python' }).value;\n",
    "\n",
    "// 이제 highlightedCode를 웹 컴포넌트로 전달하여 렌더링 할 수 있습니다.\n",
    "console.log(highlightedCode);\n",
    "\n",
    "\n",
    "interface \\[component_name\\]Props {\n",
    "    children: string;\n",
    "    language: string;\n",
    "}\n",
    "\n",
    "const \\[component_name\\] = ({ children=\"def function():\\n\\n\", language='python' }) => {\n",
    "    const highlightedCode = hljs.highlight(children, { language }).value;\n",
    "\n",
    "    return (\n",
    "        <pre>\n",
    "            <code dangerouslySetInnerHTML={{ __html: highlightedCode }} />\n",
    "        </pre>\n",
    "    );\n",
    "};\n",
    "\n",
    "export default \\[component_name\\];\n",
    "'''"
   ]
  },
  {
   "cell_type": "code",
   "execution_count": null,
   "metadata": {},
   "outputs": [],
   "source": [
    "'''\n",
    "return (\n",
    "    <pre>\n",
    "        <code dangerouslySetInnerHTML={{ __html: highlightedCode }} />\n",
    "    </pre>\n",
    ");\n",
    "'''"
   ]
  },
  {
   "cell_type": "code",
   "execution_count": 3,
   "metadata": {},
   "outputs": [],
   "source": [
    "def apply_new_brackets(\n",
    "    text:str,\n",
    "    open:str =r'\\[',\n",
    "    close:str ='\\]'\n",
    "):\n",
    "    text = text.replace(r'{', r'{{')\n",
    "    text = text.replace(r'}', r'}}')\n",
    "    text = text.replace(f'{open}', r'{')\n",
    "    text = text.replace(f'{close}', r'}')\n",
    "    return text"
   ]
  },
  {
   "cell_type": "code",
   "execution_count": 13,
   "metadata": {},
   "outputs": [],
   "source": [
    "converted = apply_new_brackets(text)"
   ]
  },
  {
   "cell_type": "code",
   "execution_count": 15,
   "metadata": {},
   "outputs": [],
   "source": [
    "def format_with_custom_brackets(\n",
    "    text:str,\n",
    "    open:str =r'\\[',\n",
    "    close:str ='\\]',\n",
    "    **kwags\n",
    "):\n",
    "    converted = apply_new_brackets(\n",
    "        text=text,\n",
    "        open=open,\n",
    "        close=close\n",
    "    )\n",
    "    \n",
    "    formatted = converted.format(\n",
    "        **kwags\n",
    "    )\n",
    "    \n",
    "    return formatted"
   ]
  },
  {
   "cell_type": "code",
   "execution_count": 14,
   "metadata": {},
   "outputs": [
    {
     "name": "stdout",
     "output_type": "stream",
     "text": [
      "\\\n",
      "import React from 'react';\n",
      "import hljs from 'highlight.js';\n",
      "import 'highlight.js/styles/default.css'; // 기본 하이라이트 스타일\n",
      "\n",
      "// 사용 예:\n",
      "// <CodeBlock code={`def hello_world():\n",
      "//     print(\"Hello, world!\")`} language=\"python\" />\n",
      "\n",
      "// Python 코드 예시\n",
      "const pythonCode = `def hello_world():\n",
      "    print(\"Hello, world!\")`;\n",
      "\n",
      "// 코드 하이라이트 처리\n",
      "const highlightedCode = hljs.highlight(pythonCode, { language: 'python' }).value;\n",
      "\n",
      "// 이제 highlightedCode를 웹 컴포넌트로 전달하여 렌더링 할 수 있습니다.\n",
      "console.log(highlightedCode);\n",
      "\n",
      "\n",
      "interface CodeBlockProps {\n",
      "    children: string;\n",
      "    language: string;\n",
      "}\n",
      "\n",
      "const CodeBlock = ({ children=\"def function():\\n\\n\", language='python' }) => {\n",
      "    const highlightedCode = hljs.highlight(children, { language }).value;\n",
      "\n",
      "    return (\n",
      "        <pre>\n",
      "            <code dangerouslySetInnerHTML={{ __html: highlightedCode }} />\n",
      "        </pre>\n",
      "    );\n",
      "};\n",
      "\n",
      "export default CodeBlock;\n",
      "\n"
     ]
    }
   ],
   "source": [
    "print(converted.format(component_name=\"CodeBlock\"))"
   ]
  },
  {
   "cell_type": "code",
   "execution_count": 17,
   "metadata": {},
   "outputs": [],
   "source": [
    "formatted = format_with_custom_brackets(\n",
    "    text,\n",
    "    component_name= 'CodeBlock'\n",
    ")"
   ]
  },
  {
   "cell_type": "code",
   "execution_count": 20,
   "metadata": {},
   "outputs": [],
   "source": [
    "formatted = format_with_custom_brackets(\n",
    "    text,\n",
    "    **{'component_name': 'CodeBlock'}\n",
    ")"
   ]
  },
  {
   "cell_type": "code",
   "execution_count": 21,
   "metadata": {},
   "outputs": [
    {
     "name": "stdout",
     "output_type": "stream",
     "text": [
      "\\\n",
      "import React from 'react';\n",
      "import hljs from 'highlight.js';\n",
      "import 'highlight.js/styles/default.css'; // 기본 하이라이트 스타일\n",
      "\n",
      "// 사용 예:\n",
      "// <CodeBlock code={`def hello_world():\n",
      "//     print(\"Hello, world!\")`} language=\"python\" />\n",
      "\n",
      "// Python 코드 예시\n",
      "const pythonCode = `def hello_world():\n",
      "    print(\"Hello, world!\")`;\n",
      "\n",
      "// 코드 하이라이트 처리\n",
      "const highlightedCode = hljs.highlight(pythonCode, { language: 'python' }).value;\n",
      "\n",
      "// 이제 highlightedCode를 웹 컴포넌트로 전달하여 렌더링 할 수 있습니다.\n",
      "console.log(highlightedCode);\n",
      "\n",
      "\n",
      "interface CodeBlockProps {\n",
      "    children: string;\n",
      "    language: string;\n",
      "}\n",
      "\n",
      "const CodeBlock = ({ children=\"def function():\\n\\n\", language='python' }) => {\n",
      "    const highlightedCode = hljs.highlight(children, { language }).value;\n",
      "\n",
      "    return (\n",
      "        <pre>\n",
      "            <code dangerouslySetInnerHTML={{ __html: highlightedCode }} />\n",
      "        </pre>\n",
      "    );\n",
      "};\n",
      "\n",
      "export default CodeBlock;\n",
      "\n"
     ]
    }
   ],
   "source": [
    "print(formatted)"
   ]
  },
  {
   "cell_type": "code",
   "execution_count": null,
   "metadata": {},
   "outputs": [],
   "source": []
  },
  {
   "cell_type": "markdown",
   "metadata": {},
   "source": [
    "```tsx\n",
    "import React from 'react';\n",
    "import hljs from 'highlight.js';\n",
    "import 'highlight.js/styles/default.css'; // 기본 하이라이트 스타일\n",
    "\n",
    "// 사용 예:\n",
    "// <CodeBlock code={`def hello_world():\n",
    "//     print(\"Hello, world!\")`} language=\"python\" />\n",
    "\n",
    "// Python 코드 예시\n",
    "const pythonCode = `def hello_world():\n",
    "    print(\"Hello, world!\")`;\n",
    "\n",
    "// 코드 하이라이트 처리\n",
    "const highlightedCode = hljs.highlight(pythonCode, { language: 'python' }).value;\n",
    "\n",
    "// 이제 highlightedCode를 웹 컴포넌트로 전달하여 렌더링 할 수 있습니다.\n",
    "console.log(highlightedCode);\n",
    "\n",
    "\n",
    "interface CodeBlockProps {\n",
    "    children: string;\n",
    "    language: string;\n",
    "}\n",
    "\n",
    "const CodeBlock = ({ children=\"def function():\\n\\n\", language='python' }) => {\n",
    "    const highlightedCode = hljs.highlight(children, { language }).value;\n",
    "\n",
    "    return (\n",
    "        <pre>\n",
    "            <code dangerouslySetInnerHTML={{ __html: highlightedCode }} />\n",
    "        </pre>\n",
    "    );\n",
    "};\n",
    "\n",
    "export default CodeBlock;\n",
    "```"
   ]
  }
 ],
 "metadata": {
  "kernelspec": {
   "display_name": "core",
   "language": "python",
   "name": "python3"
  },
  "language_info": {
   "codemirror_mode": {
    "name": "ipython",
    "version": 3
   },
   "file_extension": ".py",
   "mimetype": "text/x-python",
   "name": "python",
   "nbconvert_exporter": "python",
   "pygments_lexer": "ipython3",
   "version": "3.11.9"
  }
 },
 "nbformat": 4,
 "nbformat_minor": 2
}
