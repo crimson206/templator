{
 "cells": [
  {
   "cell_type": "code",
   "execution_count": 1,
   "metadata": {},
   "outputs": [],
   "source": [
    "from crimson.templator import (\n",
    "    format_indent,\n",
    "    format_insert,\n",
    "    add_prefix\n",
    ")"
   ]
  },
  {
   "cell_type": "code",
   "execution_count": 2,
   "metadata": {},
   "outputs": [],
   "source": [
    "text = r'''\\\n",
    "import React from 'react';\n",
    "import hljs from 'highlight.js';\n",
    "import 'highlight.js/styles/default.css'; // 기본 하이라이트 스타일\n",
    "\n",
    "// 사용 예:\n",
    "// <\\[component_name\\] code={`def hello_world():\n",
    "//     print(\"Hello, world!\")`} language=\"python\" />\n",
    "\n",
    "// Python 코드 예시\n",
    "const pythonCode = `def hello_world():\n",
    "    print(\"Hello, world!\")`;\n",
    "\n",
    "// 코드 하이라이트 처리\n",
    "const highlightedCode = hljs.highlight(pythonCode, { language: 'python' }).value;\n",
    "\n",
    "// 이제 highlightedCode를 웹 컴포넌트로 전달하여 렌더링 할 수 있습니다.\n",
    "console.log(highlightedCode);\n",
    "\n",
    "\n",
    "interface \\[component_name\\]Props {\n",
    "    \\{insert2\\}\n",
    "}\n",
    "\n",
    "const \\[component_name\\] = ({ children=\"def function():\\n\\n\", language='python' }) => {\n",
    "    const highlightedCode = hljs.highlight(children, { language }).value;\n",
    "        \\{insert\\}   \n",
    "};\n",
    "\n",
    "export default \\[component_name\\];\n",
    "'''"
   ]
  },
  {
   "cell_type": "code",
   "execution_count": 3,
   "metadata": {},
   "outputs": [],
   "source": [
    "insert = '''\\\n",
    "return <div>\n",
    "            <button/>\n",
    "        </div>\n",
    "'''\n",
    "\n",
    "insert2 = '''\\\n",
    "children: string;\n",
    "language: string;\n",
    "'''"
   ]
  },
  {
   "cell_type": "code",
   "execution_count": 4,
   "metadata": {},
   "outputs": [],
   "source": [
    "indent_formated = format_indent(text, insert=insert, insert2=insert2)"
   ]
  },
  {
   "cell_type": "code",
   "execution_count": 5,
   "metadata": {},
   "outputs": [
    {
     "name": "stdout",
     "output_type": "stream",
     "text": [
      "\\\n",
      "import React from 'react';\n",
      "import hljs from 'highlight.js';\n",
      "import 'highlight.js/styles/default.css'; // 기본 하이라이트 스타일\n",
      "\n",
      "// 사용 예:\n",
      "// <CodeBlock code={`def hello_world():\n",
      "//     print(\"Hello, world!\")`} language=\"python\" />\n",
      "\n",
      "// Python 코드 예시\n",
      "const pythonCode = `def hello_world():\n",
      "    print(\"Hello, world!\")`;\n",
      "\n",
      "// 코드 하이라이트 처리\n",
      "const highlightedCode = hljs.highlight(pythonCode, { language: 'python' }).value;\n",
      "\n",
      "// 이제 highlightedCode를 웹 컴포넌트로 전달하여 렌더링 할 수 있습니다.\n",
      "console.log(highlightedCode);\n",
      "\n",
      "\n",
      "interface CodeBlockProps {\n",
      "    children: string;\n",
      "    language: string;\n",
      "    \n",
      "}\n",
      "\n",
      "const CodeBlock = ({ children=\"def function():\\n\\n\", language='python' }) => {\n",
      "    const highlightedCode = hljs.highlight(children, { language }).value;\n",
      "        return <div>\n",
      "                    <button/>\n",
      "                </div>\n",
      "        \n",
      "};\n",
      "\n",
      "export default CodeBlock;\n",
      "\n"
     ]
    }
   ],
   "source": [
    "formatted = format_insert(indent_formated, component_name='CodeBlock')\n",
    "print(formatted)"
   ]
  },
  {
   "cell_type": "markdown",
   "metadata": {},
   "source": [
    "```tsx\n",
    "\\\n",
    "import React from 'react';\n",
    "import hljs from 'highlight.js';\n",
    "import 'highlight.js/styles/default.css'; // 기본 하이라이트 스타일\n",
    "\n",
    "// 사용 예:\n",
    "// <CodeBlock code={`def hello_world():\n",
    "//     print(\"Hello, world!\")`} language=\"python\" />\n",
    "\n",
    "// Python 코드 예시\n",
    "const pythonCode = `def hello_world():\n",
    "    print(\"Hello, world!\")`;\n",
    "\n",
    "// 코드 하이라이트 처리\n",
    "const highlightedCode = hljs.highlight(pythonCode, { language: 'python' }).value;\n",
    "\n",
    "// 이제 highlightedCode를 웹 컴포넌트로 전달하여 렌더링 할 수 있습니다.\n",
    "console.log(highlightedCode);\n",
    "\n",
    "\n",
    "interface CodeBlockProps {\n",
    "    children: string;\n",
    "    language: string;\n",
    "    \n",
    "}\n",
    "\n",
    "const CodeBlock = ({ children=\"def function():\\n\\n\", language='python' }) => {\n",
    "    const highlightedCode = hljs.highlight(children, { language }).value;\n",
    "        return <div>\n",
    "                    <button/>\n",
    "                </div>\n",
    "        \n",
    "};\n",
    "\n",
    "export default CodeBlock;\n",
    "```"
   ]
  },
  {
   "cell_type": "code",
   "execution_count": null,
   "metadata": {},
   "outputs": [],
   "source": []
  }
 ],
 "metadata": {
  "kernelspec": {
   "display_name": "core",
   "language": "python",
   "name": "python3"
  },
  "language_info": {
   "codemirror_mode": {
    "name": "ipython",
    "version": 3
   },
   "file_extension": ".py",
   "mimetype": "text/x-python",
   "name": "python",
   "nbconvert_exporter": "python",
   "pygments_lexer": "ipython3",
   "version": "3.11.9"
  }
 },
 "nbformat": 4,
 "nbformat_minor": 2
}
