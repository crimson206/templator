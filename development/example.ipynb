{
 "cells": [
  {
   "cell_type": "code",
   "execution_count": 4,
   "metadata": {},
   "outputs": [],
   "source": [
    "from crimson.templator import format_insert, format_indent, format_insert_loop"
   ]
  },
  {
   "cell_type": "code",
   "execution_count": 5,
   "metadata": {},
   "outputs": [],
   "source": [
    "kwargs1 = {\n",
    "    \"name\": \"Jone\",\n",
    "    \"age\": \"13\",\n",
    "    \"address\": \"London\",\n",
    "}\n",
    "\n",
    "kwargs2 = {\n",
    "    \"name\": \"Amy\",\n",
    "    \"age\": \"25\",\n",
    "    \"address\": \"Erlangen\",\n",
    "}\n",
    "\n",
    "kwargs_list = [kwargs1, kwargs2]\n",
    "\n",
    "\n",
    "template = r\"\"\"{\n",
    "    name : \\[name\\],\n",
    "    age : \\[age\\],\n",
    "    address : \\[address\\],\n",
    "},\"\"\"\n"
   ]
  },
  {
   "cell_type": "code",
   "execution_count": 7,
   "metadata": {},
   "outputs": [
    {
     "name": "stdout",
     "output_type": "stream",
     "text": [
      "{\n",
      "    name : Jone,\n",
      "    age : 13,\n",
      "    address : London,\n",
      "},\n",
      "{\n",
      "    name : Amy,\n",
      "    age : 25,\n",
      "    address : Erlangen,\n",
      "},\n"
     ]
    }
   ],
   "source": [
    "print(format_insert_loop(template, kwargs_list))"
   ]
  },
  {
   "cell_type": "code",
   "execution_count": null,
   "metadata": {},
   "outputs": [],
   "source": []
  }
 ],
 "metadata": {
  "kernelspec": {
   "display_name": "core",
   "language": "python",
   "name": "python3"
  },
  "language_info": {
   "codemirror_mode": {
    "name": "ipython",
    "version": 3
   },
   "file_extension": ".py",
   "mimetype": "text/x-python",
   "name": "python",
   "nbconvert_exporter": "python",
   "pygments_lexer": "ipython3",
   "version": "3.1.undefined"
  }
 },
 "nbformat": 4,
 "nbformat_minor": 2
}
