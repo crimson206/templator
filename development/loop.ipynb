{
 "cells": [
  {
   "cell_type": "code",
   "execution_count": 1,
   "metadata": {},
   "outputs": [],
   "source": [
    "from crimson.templator import format_insert\n",
    "from crimson.templator.utils import convert_lines, convert_list_to_kwargs_list"
   ]
  },
  {
   "cell_type": "code",
   "execution_count": 2,
   "metadata": {},
   "outputs": [],
   "source": [
    "kwargs1 = {\n",
    "    'name': 'Jone',\n",
    "    'age': '13',\n",
    "    'address': 'London',\n",
    "}\n",
    "\n",
    "kwargs2 = {\n",
    "    'name': 'Amy',\n",
    "    'age': '25',\n",
    "    'address': 'Erlangen',\n",
    "}\n",
    "\n",
    "kwargs_list = [kwargs1, kwargs2]"
   ]
  },
  {
   "cell_type": "code",
   "execution_count": 3,
   "metadata": {},
   "outputs": [],
   "source": [
    "template = r\"\"\"{ \n",
    "    name : \\[name\\],\n",
    "    age : \\[age\\],\n",
    "    address : \\[address\\],\n",
    "},\"\"\""
   ]
  },
  {
   "cell_type": "code",
   "execution_count": 4,
   "metadata": {},
   "outputs": [],
   "source": [
    "from pydantic import BaseModel\n",
    "from typing import List, Dict\n",
    "\n",
    "class InputProps(BaseModel):\n",
    "    ''' Description'''\n",
    "    template:str \n",
    "    kwargs_list:List[Dict[str,str]] \n",
    "    open:str = r'\\['\n",
    "    close:str = r'\\]'\n",
    "    safe:bool = True\n",
    "\n",
    "    "
   ]
  },
  {
   "cell_type": "code",
   "execution_count": 5,
   "metadata": {},
   "outputs": [],
   "source": [
    "class InputProps(BaseModel):\n",
    "    ''' Description'''\n",
    "    template:str \n",
    "    kwargs_list:List[Dict[str,str]] \n",
    "    open:str = r'\\['\n",
    "    close:str = r'\\]'\n",
    "    safe:bool = True"
   ]
  },
  {
   "cell_type": "code",
   "execution_count": null,
   "metadata": {},
   "outputs": [],
   "source": []
  },
  {
   "cell_type": "code",
   "execution_count": null,
   "metadata": {},
   "outputs": [],
   "source": []
  },
  {
   "cell_type": "code",
   "execution_count": 6,
   "metadata": {},
   "outputs": [
    {
     "data": {
      "text/plain": [
       "'{ \\n    name : \\\\[name\\\\],\\n    age : \\\\[age\\\\],\\n    address : \\\\[address\\\\],\\n},'"
      ]
     },
     "execution_count": 6,
     "metadata": {},
     "output_type": "execute_result"
    }
   ],
   "source": [
    "template"
   ]
  },
  {
   "cell_type": "code",
   "execution_count": 7,
   "metadata": {},
   "outputs": [],
   "source": [
    "def format_insert_loop(\n",
    "    template:str ,\n",
    "    kwargs_list:List[Dict[str,str]] ,\n",
    "    open:str = r'\\[',\n",
    "    close:str = r'\\]',\n",
    "    safe:bool = True,\n",
    "    inputs: InputProps=None\n",
    "):\n",
    "    if inputs is not None:\n",
    "        inputs = InputProps(\n",
    "            template=template,\n",
    "            kwargs_list=kwargs_list,\n",
    "            open=open,\n",
    "            close=close,\n",
    "            safe=safe,\n",
    "        )\n",
    "    \n",
    "    formatteds = []\n",
    "    \n",
    "    for kwargs in inputs.kwargs_list:\n",
    "        formatted = format_insert(inputs.template, inputs.open, inputs.close, inputs.safe, **kwargs)\n",
    "        formatteds.append(formatted)\n",
    "        \n",
    "    return convert_lines(formatteds)\n"
   ]
  },
  {
   "cell_type": "code",
   "execution_count": null,
   "metadata": {},
   "outputs": [],
   "source": []
  },
  {
   "cell_type": "code",
   "execution_count": 8,
   "metadata": {},
   "outputs": [
    {
     "ename": "TypeError",
     "evalue": "format_insert_loop() missing 2 required positional arguments: 'template' and 'kwargs_list'",
     "output_type": "error",
     "traceback": [
      "\u001b[0;31m---------------------------------------------------------------------------\u001b[0m",
      "\u001b[0;31mTypeError\u001b[0m                                 Traceback (most recent call last)",
      "Cell \u001b[0;32mIn[8], line 1\u001b[0m\n\u001b[0;32m----> 1\u001b[0m \u001b[43mformat_insert_loop\u001b[49m\u001b[43m(\u001b[49m\u001b[43m)\u001b[49m\n",
      "\u001b[0;31mTypeError\u001b[0m: format_insert_loop() missing 2 required positional arguments: 'template' and 'kwargs_list'"
     ]
    }
   ],
   "source": [
    "format_insert_loop()"
   ]
  },
  {
   "cell_type": "code",
   "execution_count": null,
   "metadata": {},
   "outputs": [],
   "source": [
    "def format_insert_loop(inputs: InputProps):\n",
    "    formatteds = []\n",
    "    \n",
    "    for kwargs in inputs.kwargs_list:\n",
    "        formatted = format_insert(inputs.template, inputs.open, inputs.close, inputs.safe, **kwargs)\n",
    "        formatteds.append(formatted)\n",
    "        \n",
    "    return convert_lines(formatteds)\n"
   ]
  },
  {
   "cell_type": "code",
   "execution_count": null,
   "metadata": {},
   "outputs": [],
   "source": [
    "formatted = format_insert_loop(InputProps(\n",
    "    template=template,\n",
    "    kwargs_list = kwargs_list,\n",
    "))"
   ]
  },
  {
   "cell_type": "code",
   "execution_count": null,
   "metadata": {},
   "outputs": [
    {
     "name": "stdout",
     "output_type": "stream",
     "text": [
      "{ \n",
      "    name : Jone,\n",
      "    age : 13,\n",
      "    address : London,\n",
      "},\n",
      "{ \n",
      "    name : Amy,\n",
      "    age : 25,\n",
      "    address : Erlangen,\n",
      "},\n"
     ]
    }
   ],
   "source": [
    "print(formatted)"
   ]
  },
  {
   "cell_type": "code",
   "execution_count": null,
   "metadata": {},
   "outputs": [],
   "source": []
  },
  {
   "cell_type": "code",
   "execution_count": null,
   "metadata": {},
   "outputs": [],
   "source": []
  },
  {
   "cell_type": "code",
   "execution_count": null,
   "metadata": {},
   "outputs": [],
   "source": [
    "InputProps.__name__, InputProps.model_fields.keys()\n",
    "\n",
    "kwargs = {\n",
    "    'name':InputProps.__name__,\n",
    "    'fields':list(InputProps.model_fields.keys())\n",
    "}"
   ]
  },
  {
   "cell_type": "code",
   "execution_count": null,
   "metadata": {},
   "outputs": [],
   "source": [
    "fields = InputProps.model_fields.keys()"
   ]
  },
  {
   "cell_type": "code",
   "execution_count": null,
   "metadata": {},
   "outputs": [],
   "source": [
    "args = [{\"arg\":arg} for arg in fields]"
   ]
  },
  {
   "cell_type": "code",
   "execution_count": null,
   "metadata": {},
   "outputs": [],
   "source": []
  },
  {
   "cell_type": "code",
   "execution_count": null,
   "metadata": {},
   "outputs": [
    {
     "data": {
      "text/plain": [
       "[{'template': 'template'},\n",
       " {'kwargs_list': 'kwargs_list'},\n",
       " {'open': 'open'},\n",
       " {'close': 'close'},\n",
       " {'safe': 'safe'}]"
      ]
     },
     "execution_count": 41,
     "metadata": {},
     "output_type": "execute_result"
    }
   ],
   "source": [
    "args"
   ]
  },
  {
   "cell_type": "code",
   "execution_count": null,
   "metadata": {},
   "outputs": [],
   "source": [
    "def format_insert_loop(\n",
    "    template:str ,\n",
    "    kwargs_list:List[Dict[str,str]] ,\n",
    "    open:str = r'\\[',\n",
    "    close:str = r'\\]',\n",
    "    safe:bool = True,\n",
    "    inputs: InputProps=None\n",
    "):\n",
    "    if inputs is None:\n",
    "        inputs = InputProps(\n",
    "            template=template,\n",
    "            kwargs_list=kwargs_list,\n",
    "            open=open,\n",
    "            close=close,\n",
    "            safe=safe,\n",
    "        )\n",
    "    \n",
    "    formatteds = []\n",
    "    \n",
    "    for kwargs in inputs.kwargs_list:\n",
    "        formatted = format_insert(inputs.template, inputs.open, inputs.close, inputs.safe, **kwargs)\n",
    "        formatteds.append(formatted)\n",
    "\n",
    "    return convert_lines(formatteds)\n"
   ]
  },
  {
   "cell_type": "code",
   "execution_count": 10,
   "metadata": {},
   "outputs": [],
   "source": [
    "def format_insert_loop(\n",
    "    template:str ,\n",
    "    kwargs_list:List[Dict[str,str]] ,\n",
    "    open:str = r'\\[',\n",
    "    close:str = r'\\]',\n",
    "    safe:bool = True,\n",
    "):\n",
    "    formatted_lines = []\n",
    "    \n",
    "    for kwargs in kwargs_list:\n",
    "        formatted = format_insert(template, open, close, safe, **kwargs)\n",
    "        formatted_lines.append(formatted)\n",
    "    formatted = convert_lines(formatted_lines)\n",
    "    return formatted"
   ]
  },
  {
   "cell_type": "code",
   "execution_count": 16,
   "metadata": {},
   "outputs": [],
   "source": [
    "args= convert_list_to_kwargs_list(InputProps.model_fields.keys(), 'arg')"
   ]
  },
  {
   "cell_type": "code",
   "execution_count": null,
   "metadata": {},
   "outputs": [],
   "source": []
  },
  {
   "cell_type": "code",
   "execution_count": 14,
   "metadata": {},
   "outputs": [],
   "source": [
    "template = r\"\"\"\\[arg\\]=\\[arg\\]\"\"\""
   ]
  },
  {
   "cell_type": "code",
   "execution_count": 17,
   "metadata": {},
   "outputs": [
    {
     "name": "stdout",
     "output_type": "stream",
     "text": [
      "template=template\n",
      "kwargs_list=kwargs_list\n",
      "open=open\n",
      "close=close\n",
      "safe=safe\n"
     ]
    }
   ],
   "source": [
    "print(format_insert_loop(template=template, kwargs_list=args))"
   ]
  }
 ],
 "metadata": {
  "kernelspec": {
   "display_name": "core",
   "language": "python",
   "name": "python3"
  },
  "language_info": {
   "codemirror_mode": {
    "name": "ipython",
    "version": 3
   },
   "file_extension": ".py",
   "mimetype": "text/x-python",
   "name": "python",
   "nbconvert_exporter": "python",
   "pygments_lexer": "ipython3",
   "version": "3.11.9"
  }
 },
 "nbformat": 4,
 "nbformat_minor": 2
}
